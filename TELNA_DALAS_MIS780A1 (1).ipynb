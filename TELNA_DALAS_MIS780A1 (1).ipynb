{
  "cells": [
    {
      "cell_type": "markdown",
      "metadata": {
        "id": "UP2Th8B0LLey"
      },
      "source": [
        "## MIS780 Advanced AI For Business - Assignment 1 - T2 2023"
      ]
    },
    {
      "cell_type": "markdown",
      "metadata": {
        "id": "m9ZYjLxXs2Vg"
      },
      "source": [
        "**Student Name:** _enter your full name here_ TELNA DALAS\n",
        "\n",
        "**Student ID:** _enter your student ID here_ 222560322"
      ]
    },
    {
      "cell_type": "markdown",
      "metadata": {
        "id": "AUCdWjQ8s2Vg"
      },
      "source": [
        "## Table of Content\n",
        "\n",
        "1. [Executive Summary](#cell_executivesummary)\n",
        "\n",
        "\n",
        "2. [Data Exploration](#cell_exploration)\n",
        "\n",
        "\n",
        "3. [Sentiment Analysis](#cell_sentiment)\n",
        "\n",
        "\n",
        "4. [Topic Modeling](#cell_TopicModeling)\n",
        "\n",
        "\n",
        "5. [Practical Implication](#cell_PracticalImplication)\n"
      ]
    },
    {
      "cell_type": "markdown",
      "metadata": {
        "id": "THnW6RPgLLf6"
      },
      "source": [
        "<a id = \"cell_executivesummary\"></a>\n",
        "### 1. Executive Summary\n"
      ]
    },
    {
      "cell_type": "markdown",
      "metadata": {
        "id": "eA1xUmtNs2Vh"
      },
      "source": [
        "\n",
        "**Aim:**\n",
        "\n",
        "The goal of this effort is to supply airlines with significant information gleaned from social media consumer emotions. By doing so, we hope to accomplish various advantages for both the company and its customers:\n",
        "\n",
        "Enhanced Customer Experience: Using analysis of sentiment and topic modelling, we hope to identify customer pain spots and areas of concern. Addressing these concerns as soon as possible can result in a better overall customer experience, creating loyalty and a favourable brand reputation.\n",
        "\n",
        "Tailored Marketing Strategies: Knowing where your customers are and what they want helps airlines to customise marketing efforts to specific locations and demographics.\n",
        "\n",
        "Proactive Problem Solving: By using machine learning methods to forecast sentiment, airlines may detect negative emotions ahead of time. This proactive approach enables organisations to handle issues as they arise and avoid possible public relations disasters.\n",
        "\n",
        "Strategic Decision-Making: Airlines obtain insights into market views by assessing their attractiveness and analysing sentiment proportions.\n",
        "\n",
        "**Proposed approaches**\n",
        "\n",
        "\n",
        "We used the following ways to handle the business challenge and achieve the mentioned benefits:\n",
        "\n",
        "Ranking Popularity: We calculated airline popularity using tweet volumes. This method allows airlines to effectively allocate resources by focusing on the most visible ones.\n",
        "\n",
        "Customer Location Analysis: Airlines can tailor marketing techniques to certain demographics by finding popular states wherever customers are situated.\n",
        "\n",
        "Sentiment Prediction: We forecast sentiment using machine learning algorithms to allow proactive communication with clients, resulting in higher satisfaction.\n",
        "\n",
        "Lexicon-Based Sentiment Analysis: For strategic decision-making, our lexicon-based technique quantifies positive and negative attitudes, allowing airline to focus on areas that require attention.\n",
        "\n",
        "Topic Modelling: Using topic modelling, we were able to uncover frequently stated negative concerns, allowing airlines to prioritise fixes and increase customer happiness.\n",
        "\n",
        "**Major findings**\n",
        "\n",
        "Our investigation demonstrated the popularity of various airlines, assisting airlines in understanding their market position. Identifying consumer locations helps with personalised marketing and increases engagement. Predicting emotion allows airlines to address consumer complaints in advance, enhancing customer relationships. Lexicon-based analysis aids in strategic decision-making for enhanced consumer sentiment. Finally, topic modelling identifies and prioritises widespread negative concerns, allowing airlines to prioritise and solve them, hence improving total customer happiness.\n",
        "\n",
        "It supplies airlines with practical findings that immediately solve the business problem through our complete techniques and results, enabling a customer-centric strategy and sustainable development."
      ]
    },
    {
      "cell_type": "markdown",
      "metadata": {
        "id": "Eql8BBP8s2Vh"
      },
      "source": [
        "<a id = \"cell_exploration\"></a>\n",
        "### 2. Data Exploration\n",
        "\n",
        "\n",
        "**Aim:**\n",
        "This code explores data by presenting the initial rows of the dataset, displaying basic statistics, and producing a bar plot to visualise the popularity of aircraft according to the number of tweets. Depending on the 'location' column, it then classifies data for the major airlines and determines popular regions for each airline.\n",
        "\n",
        "\n"
      ]
    },
    {
      "cell_type": "code",
      "execution_count": null,
      "metadata": {
        "id": "o-DQYtYws2Vj",
        "colab": {
          "base_uri": "https://localhost:8080/",
          "height": 1249
        },
        "outputId": "472cf5b8-41fb-460d-a0dd-bd64bcc4b367"
      },
      "outputs": [
        {
          "output_type": "stream",
          "name": "stdout",
          "text": [
            "             tweet_id airline_sentiment  airline_sentiment_confidence  \\\n",
            "0  570306133677760513           neutral                        1.0000   \n",
            "1  570301130888122368          positive                        0.3486   \n",
            "2  570301083672813571           neutral                        0.6837   \n",
            "3  570301031407624196          negative                        1.0000   \n",
            "4  570300817074462722          negative                        1.0000   \n",
            "\n",
            "  negativereason  negativereason_confidence         airline  \\\n",
            "0            NaN                        NaN  Virgin America   \n",
            "1            NaN                     0.0000  Virgin America   \n",
            "2            NaN                        NaN  Virgin America   \n",
            "3     Bad Flight                     0.7033  Virgin America   \n",
            "4     Can't Tell                     1.0000  Virgin America   \n",
            "\n",
            "  airline_sentiment_gold        name negativereason_gold  retweet_count  \\\n",
            "0                    NaN     cairdin                 NaN              0   \n",
            "1                    NaN    jnardino                 NaN              0   \n",
            "2                    NaN  yvonnalynn                 NaN              0   \n",
            "3                    NaN    jnardino                 NaN              0   \n",
            "4                    NaN    jnardino                 NaN              0   \n",
            "\n",
            "                                                text tweet_coord  \\\n",
            "0                @VirginAmerica What @dhepburn said.         NaN   \n",
            "1  @VirginAmerica plus you've added commercials t...         NaN   \n",
            "2  @VirginAmerica I didn't today... Must mean I n...         NaN   \n",
            "3  @VirginAmerica it's really aggressive to blast...         NaN   \n",
            "4  @VirginAmerica and it's a really big bad thing...         NaN   \n",
            "\n",
            "               tweet_created tweet_location               user_timezone  \n",
            "0  2015-02-24 11:35:52 -0800            NaN  Eastern Time (US & Canada)  \n",
            "1  2015-02-24 11:15:59 -0800            NaN  Pacific Time (US & Canada)  \n",
            "2  2015-02-24 11:15:48 -0800      Lets Play  Central Time (US & Canada)  \n",
            "3  2015-02-24 11:15:36 -0800            NaN  Pacific Time (US & Canada)  \n",
            "4  2015-02-24 11:14:45 -0800            NaN  Pacific Time (US & Canada)  \n",
            "           tweet_id  airline_sentiment_confidence  negativereason_confidence  \\\n",
            "count  1.464000e+04                  14640.000000               10522.000000   \n",
            "mean   5.692184e+17                      0.900169                   0.638298   \n",
            "std    7.791112e+14                      0.162830                   0.330440   \n",
            "min    5.675883e+17                      0.335000                   0.000000   \n",
            "25%    5.685592e+17                      0.692300                   0.360600   \n",
            "50%    5.694779e+17                      1.000000                   0.670600   \n",
            "75%    5.698905e+17                      1.000000                   1.000000   \n",
            "max    5.703106e+17                      1.000000                   1.000000   \n",
            "\n",
            "       retweet_count  \n",
            "count   14640.000000  \n",
            "mean        0.082650  \n",
            "std         0.745778  \n",
            "min         0.000000  \n",
            "25%         0.000000  \n",
            "50%         0.000000  \n",
            "75%         0.000000  \n",
            "max        44.000000  \n"
          ]
        },
        {
          "output_type": "display_data",
          "data": {
            "text/plain": [
              "<Figure size 1000x600 with 1 Axes>"
            ],
            "image/png": "[encoded data removed]"
          },
          "metadata": {}
        },
        {
          "output_type": "stream",
          "name": "stdout",
          "text": [
            "'location' column not found in the dataset.\n",
            "'location' column not found in the dataset.\n"
          ]
        }
      ],
      "source": [
        "import pandas as pd\n",
        "import matplotlib.pyplot as plt\n",
        "import seaborn as sns\n",
        "\n",
        "# Load the dataset\n",
        "data = pd.read_csv(\"A1_dataset.csv\")\n",
        "\n",
        "# Display the first few rows of the dataset\n",
        "print(data.head())\n",
        "\n",
        "# Get basic statistics of the dataset\n",
        "print(data.describe())\n",
        "\n",
        "# (A) Rank the popularity of airlines\n",
        "airline_popularity = data['airline'].value_counts()\n",
        "\n",
        "# Create a bar plot for airline popularity\n",
        "plt.figure(figsize=(10, 6))\n",
        "sns.barplot(x=airline_popularity.index, y=airline_popularity.values)\n",
        "plt.xticks(rotation=45)\n",
        "plt.xlabel('Airline')\n",
        "plt.ylabel('Number of Tweets')\n",
        "plt.title('Popularity of Airlines Based on Number of Tweets')\n",
        "plt.show()\n",
        "\n",
        "# (B) Identify popular states for each airline\n",
        "\n",
        "# Assuming 'airline' and 'location' are columns in your dataset\n",
        "# Filter data for the top airlines you are interested in\n",
        "top_airlines = data[data['airline'].isin(['Airline1', 'Airline2', 'Airline3'])]\n",
        "# Assuming 'airline' and 'location' are columns in your dataset\n",
        "# Filter data for the top airlines you are interested in\n",
        "top_airlines = data[data['airline'].isin(['Airline1', 'Airline2', 'Airline3'])]\n",
        "\n",
        "# Check if the 'location' column exists in the filtered dataset\n",
        "if 'location' in top_airlines.columns:\n",
        "    state_popularity = top_airlines.groupby(['airline', 'location']).size().reset_index(name='count')\n",
        "else:\n",
        "    print(\"'location' column not found in the dataset.\")\n",
        "import pandas as pd\n",
        "\n",
        "# Load the dataset\n",
        "data = pd.read_csv(\"A1_dataset.csv\")\n",
        "\n",
        "# Filter data for the top airlines you are interested in\n",
        "top_airlines = data[data['airline'].isin(['Airline1', 'Airline2', 'Airline3'])]\n",
        "\n",
        "# Check if the 'location' column exists in the filtered dataset\n",
        "if 'location' in top_airlines.columns:\n",
        "    # Group by airline and location to count the occurrences of each state for each airline\n",
        "    state_popularity = top_airlines.groupby(['airline', 'location']).size().reset_index(name='count')\n",
        "    print(state_popularity)\n",
        "else:\n",
        "    print(\"'location' column not found in the dataset.\")\n",
        "\n",
        "\n",
        "\n"
      ]
    },
    {
      "cell_type": "code",
      "source": [],
      "metadata": {
        "id": "qQF-LMowKCHn"
      },
      "execution_count": null,
      "outputs": []
    },
    {
      "cell_type": "markdown",
      "metadata": {
        "id": "OTQmyIAFs2Vj"
      },
      "source": [
        "<a id = \"cell_sentiment\"></a>\n",
        "### 3. Sentiment Analysis\n",
        "\n",
        "\n",
        "\n",
        " **Machine Learning Based Approach**:\n",
        "This programme predicts sentiment labels using a Naive Bayes classifier using TF-IDF features, and it assesses the precision of the model and classification report."
      ]
    },
    {
      "cell_type": "code",
      "execution_count": null,
      "metadata": {
        "id": "G7M65iaJs2Vk",
        "colab": {
          "base_uri": "https://localhost:8080/"
        },
        "outputId": "b04c74db-e934-4167-85c5-e2a1ddd2dbb1"
      },
      "outputs": [
        {
          "output_type": "stream",
          "name": "stdout",
          "text": [
            "Accuracy: 0.7359972677595629\n",
            "Classification Report:\n",
            "              precision    recall  f1-score   support\n",
            "\n",
            "    negative       0.93      0.40      0.56       729\n",
            "     neutral       0.76      0.82      0.78      1086\n",
            "    positive       0.68      0.88      0.76      1113\n",
            "\n",
            "    accuracy                           0.74      2928\n",
            "   macro avg       0.79      0.70      0.70      2928\n",
            "weighted avg       0.77      0.74      0.72      2928\n",
            "\n"
          ]
        }
      ],
      "source": [
        "#Code cell\n",
        "import pandas as pd\n",
        "from sklearn.model_selection import train_test_split\n",
        "from sklearn.feature_extraction.text import TfidfVectorizer\n",
        "from sklearn.naive_bayes import MultinomialNB\n",
        "from sklearn.metrics import accuracy_score, classification_report\n",
        "\n",
        "# Load the dataset\n",
        "data = pd.read_csv(\"A1_dataset.csv\")\n",
        "\n",
        "\n",
        "import pandas as pd\n",
        "from textblob import TextBlob\n",
        "\n",
        "\n",
        "\n",
        "# Assuming 'text' contains the tweet text\n",
        "data['sentiment_score'] = data['text'].apply(lambda x: TextBlob(x).sentiment.polarity)\n",
        "\n",
        "# Classify sentiment based on the sentiment score\n",
        "data['sentiment'] = data['sentiment_score'].apply(lambda x: 'positive' if x > 0 else ('negative' if x < 0 else 'neutral'))\n",
        "\n",
        "# Now you can proceed with the sentiment-based analysis\n",
        "negative_tweets = data[data['sentiment'] == 'negative']\n",
        "# Rest of your topic modeling code can go here\n",
        "\n",
        "\n",
        "# Assuming 'text' contains the tweet text and 'sentiment' contains the sentiment labels\n",
        "X = data['text']\n",
        "y = data['sentiment']\n",
        "\n",
        "# Split the dataset into training and testing sets\n",
        "X_train, X_test, y_train, y_test = train_test_split(X, y, test_size=0.2, random_state=42)\n",
        "\n",
        "# Vectorize the text data\n",
        "vectorizer = TfidfVectorizer()\n",
        "X_train_vec = vectorizer.fit_transform(X_train)\n",
        "X_test_vec = vectorizer.transform(X_test)\n",
        "\n",
        "# Train a model (Multinomial Naive Bayes)\n",
        "model = MultinomialNB()\n",
        "model.fit(X_train_vec, y_train)\n",
        "\n",
        "# Make predictions on the test set\n",
        "predictions = model.predict(X_test_vec)\n",
        "\n",
        "# Evaluate the model\n",
        "accuracy = accuracy_score(y_test, predictions)\n",
        "classification_rep = classification_report(y_test, predictions)\n",
        "print(f\"Accuracy: {accuracy}\")\n",
        "print(f\"Classification Report:\\n{classification_rep}\")\n",
        "\n",
        "\n",
        "\n",
        "\n"
      ]
    },
    {
      "cell_type": "markdown",
      "source": [
        "\n",
        "**Lexicon Based Approach**\n",
        "\n",
        "The TextBlob library is used in this code to generate sentiment ratings for each tweet & classify them according to positive, negative, and neutral. It then computes the sentiment proportions for the top three airlines."
      ],
      "metadata": {
        "id": "pJ0jjGv4cImQ"
      }
    },
    {
      "cell_type": "code",
      "source": [
        "\n",
        "import pandas as pd\n",
        "from textblob import TextBlob\n",
        "\n",
        "# Load the dataset\n",
        "data = pd.read_csv(\"A1_dataset.csv\")\n",
        "\n",
        "# Assuming 'text' contains the tweet text\n",
        "data['sentiment_score'] = data['text'].apply(lambda x: TextBlob(x).sentiment.polarity)\n",
        "\n",
        "# Classify sentiment based on the sentiment score\n",
        "data['sentiment'] = data['sentiment_score'].apply(lambda x: 'positive' if x > 0 else ('negative' if x < 0 else 'neutral'))\n",
        "\n",
        "# Now you can proceed with the sentiment-based analysis\n",
        "if 'negative' in data['sentiment'].values:\n",
        "    negative_tweets = data[data['sentiment'] == 'negative']\n",
        "    # Rest of your topic modeling code can go here\n",
        "else:\n",
        "    print(\"No negative sentiment tweets found.\")\n",
        "\n",
        "\n",
        "# Assuming 'text' contains the tweet text\n",
        "top_airlines = data[data['airline'].isin(['Airline1', 'Airline2', 'Airline3'])]\n",
        "\n",
        "# Initialize counters for positive and negative sentiments\n",
        "positive_count = 0\n",
        "negative_count = 0\n",
        "\n",
        "# Analyze sentiment for each tweet and count positive/negative sentiments\n",
        "for tweet in top_airlines['text']:\n",
        "    analysis = TextBlob(tweet)\n",
        "    if analysis.sentiment.polarity > 0:\n",
        "        positive_count += 1\n",
        "    elif analysis.sentiment.polarity < 0:\n",
        "        negative_count += 1\n",
        "\n",
        "\n",
        "# Calculate the total number of tweets for the top airlines\n",
        "top_airlines = data['airline'].value_counts().head(3).index\n",
        "filtered_data = data[data['airline'].isin(top_airlines)]\n",
        "total_tweets = len(filtered_data)\n",
        "\n",
        "# Calculate the number of positive and negative tweets for each airline\n",
        "positive_count = filtered_data[filtered_data['airline_sentiment'] == 'positive']['airline'].value_counts()\n",
        "negative_count = filtered_data[filtered_data['airline_sentiment'] == 'negative']['airline'].value_counts()\n",
        "\n",
        "# Calculate proportions only if there are tweets for the top airlines\n",
        "if total_tweets > 0:\n",
        "    proportion_positive = positive_count / total_tweets\n",
        "    proportion_negative = negative_count / total_tweets\n",
        "\n",
        "    # Print the proportions of positive and negative tweets for each airline\n",
        "    print(\"Proportion of Positive Tweets:\")\n",
        "    print(proportion_positive)\n",
        "    print(\"\\nProportion of Negative Tweets:\")\n",
        "    print(proportion_negative)\n",
        "else:\n",
        "    print(\"No tweets for the top airlines.\")\n"
      ],
      "metadata": {
        "id": "_vL3cfwMc9Wa",
        "colab": {
          "base_uri": "https://localhost:8080/"
        },
        "outputId": "c04df20a-6220-4999-a4a2-e83fc15cda2c"
      },
      "execution_count": null,
      "outputs": [
        {
          "output_type": "stream",
          "name": "stdout",
          "text": [
            "Proportion of Positive Tweets:\n",
            "United        0.051822\n",
            "American      0.035391\n",
            "US Airways    0.028334\n",
            "Name: airline, dtype: float64\n",
            "\n",
            "Proportion of Negative Tweets:\n",
            "United        0.277333\n",
            "US Airways    0.238361\n",
            "American      0.206446\n",
            "Name: airline, dtype: float64\n"
          ]
        }
      ]
    },
    {
      "cell_type": "markdown",
      "metadata": {
        "id": "oDGk9oyJs2Vk"
      },
      "source": [
        "<a id = \"cell_TopicModeling\"></a>\n",
        "### 4. Topic Modeling\n",
        "\n",
        "**Aim:** This code preprocesses the tweet contents, generates a document-term matrix, then trains an LDA model with varying amounts of topics. It computes perplexity scores to find the ideal number of subjects and presents the top words for each topic. Finally, it assigns subjects to documents and examines topic distribution.\n"
      ]
    },
    {
      "cell_type": "code",
      "source": [
        "import nltk\n",
        "nltk.download('punkt')\n"
      ],
      "metadata": {
        "colab": {
          "base_uri": "https://localhost:8080/"
        },
        "id": "e7xAWDPQJLLA",
        "outputId": "34a78ae2-8c5c-499b-a21d-5843cbf956d7"
      },
      "execution_count": null,
      "outputs": [
        {
          "output_type": "stream",
          "name": "stderr",
          "text": [
            "[nltk_data] Downloading package punkt to /root/nltk_data...\n",
            "[nltk_data]   Package punkt is already up-to-date!\n"
          ]
        },
        {
          "output_type": "execute_result",
          "data": {
            "text/plain": [
              "True"
            ]
          },
          "metadata": {},
          "execution_count": 15
        }
      ]
    },
    {
      "cell_type": "code",
      "source": [
        "import nltk\n",
        "nltk.download('averaged_perceptron_tagger')\n"
      ],
      "metadata": {
        "colab": {
          "base_uri": "https://localhost:8080/"
        },
        "id": "CMs9K9rODUAm",
        "outputId": "e3407f6b-3b9e-49cd-8def-482a59c5e5a2"
      },
      "execution_count": null,
      "outputs": [
        {
          "output_type": "stream",
          "name": "stderr",
          "text": [
            "[nltk_data] Downloading package averaged_perceptron_tagger to\n",
            "[nltk_data]     /root/nltk_data...\n",
            "[nltk_data]   Package averaged_perceptron_tagger is already up-to-\n",
            "[nltk_data]       date!\n"
          ]
        },
        {
          "output_type": "execute_result",
          "data": {
            "text/plain": [
              "True"
            ]
          },
          "metadata": {},
          "execution_count": 16
        }
      ]
    },
    {
      "cell_type": "code",
      "execution_count": null,
      "metadata": {
        "id": "7ctovnrAs2Vk",
        "colab": {
          "base_uri": "https://localhost:8080/"
        },
        "outputId": "1d9bfc59-5806-42e3-ceb6-e9a99fc1fffa"
      },
      "outputs": [
        {
          "output_type": "stream",
          "name": "stderr",
          "text": [
            "[nltk_data] Downloading package punkt to /root/nltk_data...\n",
            "[nltk_data]   Package punkt is already up-to-date!\n",
            "[nltk_data] Downloading package stopwords to /root/nltk_data...\n",
            "[nltk_data]   Package stopwords is already up-to-date!\n",
            "<ipython-input-17-68371dce2baf>:28: SettingWithCopyWarning: \n",
            "A value is trying to be set on a copy of a slice from a DataFrame.\n",
            "Try using .loc[row_indexer,col_indexer] = value instead\n",
            "\n",
            "See the caveats in the documentation: https://pandas.pydata.org/pandas-docs/stable/user_guide/indexing.html#returning-a-view-versus-a-copy\n",
            "  negative_tweets['processed_text'] = negative_tweets['text'].apply(preprocess_text)\n"
          ]
        },
        {
          "output_type": "stream",
          "name": "stdout",
          "text": [
            "Topic 0: jetblue, bag, service, flight, plane, delay, way, customer, please, virginamerica\n",
            "Topic 1: americanair, flight, http, hours, usairways, plane, thanks, airline, day, time\n",
            "Topic 2: americanair, usairways, days, agents, nothing, response, service, amp, people, agent\n",
            "Topic 3: flight, americanair, usairways, hours, help, tomorrow, call, phone, home, hour\n",
            "Topic 4: southwestair, flight, service, customer, usairways, time, minutes, phone, today, flights\n"
          ]
        }
      ],
      "source": [
        "import pandas as pd\n",
        "import gensim\n",
        "from gensim import corpora, models\n",
        "from nltk.tokenize import word_tokenize\n",
        "from nltk.corpus import stopwords\n",
        "from nltk.tag import pos_tag\n",
        "import nltk\n",
        "\n",
        "# Download NLTK resources\n",
        "nltk.download('punkt')\n",
        "nltk.download('stopwords')\n",
        "\n",
        "# Load the dataset\n",
        "data = pd.read_csv(\"A1_dataset.csv\")\n",
        "\n",
        "# Filter negative tweets\n",
        "negative_tweets = data[data['airline_sentiment'] == 'negative']\n",
        "\n",
        "# Preprocessing functions\n",
        "def preprocess_text(text):\n",
        "    tokens = word_tokenize(text.lower())\n",
        "    tokens = [word for word in tokens if word.isalnum()]\n",
        "    tokens = [word for word in tokens if word not in stopwords.words('english')]\n",
        "    tokens = [word for word, tag in pos_tag(tokens) if tag.startswith('NN')]\n",
        "    return tokens\n",
        "\n",
        "# Apply preprocessing to the negative tweets\n",
        "negative_tweets['processed_text'] = negative_tweets['text'].apply(preprocess_text)\n",
        "\n",
        "# Create a dictionary and a corpus\n",
        "dictionary = corpora.Dictionary(negative_tweets['processed_text'])\n",
        "corpus = [dictionary.doc2bow(tweet) for tweet in negative_tweets['processed_text']]\n",
        "\n",
        "# Train the LDA model\n",
        "num_topics = 5  # Adjust the number of topics as needed\n",
        "lda_model = models.LdaModel(corpus, num_topics=num_topics, id2word=dictionary, passes=15)\n",
        "\n",
        "# Print topics and their top words\n",
        "for topic_num in range(num_topics):\n",
        "    top_words = lda_model.show_topic(topic_num, topn=10)\n",
        "    top_words_str = ', '.join([word for word, _ in top_words])\n",
        "    print(f\"Topic {topic_num}: {top_words_str}\")\n"
      ]
    },
    {
      "cell_type": "code",
      "source": [
        "import pandas as pd\n",
        "from sklearn.feature_extraction.text import CountVectorizer\n",
        "from sklearn.decomposition import LatentDirichletAllocation\n",
        "import matplotlib.pyplot as plt\n",
        "import seaborn as sns\n",
        "\n",
        "# Load the dataset\n",
        "data = pd.read_csv(\"A1_dataset.csv\")\n",
        "\n",
        "# Assuming 'text' contains the tweet text\n",
        "documents = data['text'].tolist()\n",
        "\n",
        "# Text preprocessing\n",
        "# Remove special characters and lowercase\n",
        "documents = [doc.lower().replace('[^a-zA-Z\\s]', '') for doc in documents]\n",
        "\n",
        "# Create a document-term matrix\n",
        "vectorizer = CountVectorizer(max_features=5000, stop_words='english')\n",
        "dtm = vectorizer.fit_transform(documents)\n",
        "\n",
        "# Determine the appropriate number of topics\n",
        "num_topics_range = range(5, 16)  # Experiment with different numbers of topics\n",
        "perplexity_scores = []\n",
        "\n",
        "for num_topics in num_topics_range:\n",
        "    lda = LatentDirichletAllocation(n_components=num_topics, random_state=42)\n",
        "    lda.fit(dtm)\n",
        "    perplexity_scores.append(lda.perplexity(dtm))\n",
        "\n",
        "# Plot perplexity scores to find optimal number of topics\n",
        "plt.figure(figsize=(10, 6))\n",
        "sns.lineplot(x=num_topics_range, y=perplexity_scores)\n",
        "plt.xlabel('Number of Topics')\n",
        "plt.ylabel('Perplexity Score')\n",
        "plt.title('Perplexity Score vs. Number of Topics')\n",
        "plt.show()\n",
        "\n",
        "# Determine the optimal number of topics based on the plot\n",
        "optimal_num_topics = num_topics_range[perplexity_scores.index(min(perplexity_scores))]\n",
        "print(\"Optimal Number of Topics:\", optimal_num_topics)\n",
        "\n",
        "# Train LDA model with the optimal number of topics\n",
        "lda = LatentDirichletAllocation(n_components=optimal_num_topics, random_state=42)\n",
        "lda.fit(dtm)\n",
        "\n",
        "# Display topics and their top words\n",
        "feature_names = vectorizer.get_feature_names_out()\n",
        "for topic_idx, topic in enumerate(lda.components_):\n",
        "    top_words_idx = topic.argsort()[:-11:-1]\n",
        "    top_words = [feature_names[i] for i in top_words_idx]\n",
        "    print(f\"Topic {topic_idx + 1}: {', '.join(top_words)}\")\n",
        "\n",
        "# Assign topics to documents\n",
        "topic_assignments = lda.transform(dtm)\n",
        "data['topic_assignment'] = topic_assignments.argmax(axis=1)\n",
        "\n",
        "# Analyze topics and their distribution\n",
        "topic_distribution = data['topic_assignment'].value_counts(normalize=True)\n",
        "print(\"Topic Distribution:\")\n",
        "print(topic_distribution)\n"
      ],
      "metadata": {
        "colab": {
          "base_uri": "https://localhost:8080/",
          "height": 790
        },
        "id": "tZnt8w199j2i",
        "outputId": "16df1d26-fa4f-4c2b-8a72-2277f7575f87"
      },
      "execution_count": null,
      "outputs": [
        {
          "output_type": "display_data",
          "data": {
            "text/plain": [
              "<Figure size 1000x600 with 1 Axes>"
            ],
            "image/png": "[encoded data removed]"
          },
          "metadata": {}
        },
        {
          "output_type": "stream",
          "name": "stdout",
          "text": [
            "Optimal Number of Topics: 5\n",
            "Topic 1: southwestair, americanair, thank, help, united, virginamerica, dm, usairways, need, service\n",
            "Topic 2: flight, usairways, americanair, cancelled, hours, hold, flightled, jetblue, help, late\n",
            "Topic 3: united, flight, jetblue, plane, gate, time, delay, delayed, http, flights\n",
            "Topic 4: usairways, service, united, customer, jetblue, bag, americanair, http, worst, lost\n",
            "Topic 5: jetblue, thanks, flight, southwestair, united, americanair, http, just, virginamerica, good\n",
            "Topic Distribution:\n",
            "1    0.253552\n",
            "4    0.201503\n",
            "0    0.195150\n",
            "3    0.176366\n",
            "2    0.173429\n",
            "Name: topic_assignment, dtype: float64\n"
          ]
        }
      ]
    },
    {
      "cell_type": "markdown",
      "metadata": {
        "id": "QH1HJ3kUs2Vl"
      },
      "source": [
        "\n",
        "\n",
        "\n",
        "\n",
        "\n",
        "<a id = \"cell_Practicalimplication\"></a>\n",
        "### 5. Practical Implication\n",
        "\n",
        "**Aim:** Several recommendations may be made based on the information gleaned from the study of consumer tweets regarding airlines to better serve customer and improve their experience. Based on the findings, here are some significant recommendations:\n",
        "\n",
        "**Improve Customer Engagement:** Customers should be actively engaged by airlines on social media sites. Respond to customer complaints, queries, and feedback immediately and empathetically to demonstrate that their ideas are appreciated.\n",
        "\n",
        "**Improve Communication When There Are Delays:** Customers express their displeasure in tweets about aircraft delays. Airlines should enhance communication throughout delays, offer updates in real time, and provide compensation and alternatives to passengers who are inconvenienced.\n",
        "\n",
        "**Empower Customer Service Representatives**: This may allow them respond to client enquiries more efficiently and customise their strategy based on the mood expressed.\n",
        "\n",
        "**Provide Customised Services**: Make use of sentiment analysis to segment clients based on their emotions. This allows airlines to provide personalised solutions and incentives to dissatisfied consumers, therefore enhancing their overall experience.\n",
        "\n",
        "**Monitor Feedback on a Regular Basis**: Maintain a close eye on social media sites for consumer feedback. Implement a real-time monitoring and reaction system to keep track of changing client attitudes.\n",
        "\n",
        "**Adopt Customer-Centric Policies**: Reevaluate and alter luggage, cancellation, and refund policies based on consumer feedback to meet with customer expectations.\n",
        "\n",
        "**Prioritise safety precautions**: Address any unfavourable feelings about safety or health measures. To reassure clients about their safety while travelling, communicate and enforce strong safety standards.\n",
        "\n",
        "**Improve Your Social Media Listening**: Extend the study to discover developing consumer sentiment patterns and concerns. Adjust techniques and approaches on a regular basis in response to shifting sentiment patterns.\n"
      ]
    },
    {
      "cell_type": "markdown",
      "metadata": {
        "id": "XMZjXL_Ws2Vl"
      },
      "source": [
        "### References:\n",
        "\n",
        "\n",
        "· Complete guide to social media analytics and why it’s important. (2023, MARCH 15). Retrieved from SPROUT SOCIAL: https://sproutsocial.com/insights/social-media-analytics/\n",
        "\n",
        "  Morgan, B. (2016, NOVEMBER 17). What Are Social Analytics? Retrieved from FORBES: https://www.forbes.com/sites/blakemorgan/2016/11/17/what-are-social-analytics/?sh=7b05704458ee\n",
        "\n",
        "·      Pullen-Blasnik, H. (n.d.). social analysis. Retrieved from TECH TARGET: https://www.techtarget.com/searchbusinessanalytics/definition/social-analysis\n",
        "\n",
        "·      Sean. (2022, JUNE 14). The Detailed Guide to Understanding Your Social Analytics. Retrieved from LYFE MARKETING: https://www.lyfemarketing.com/blog/social-analytics/\n",
        "\n",
        "·      What is social media analytics in 2023? (n.d.). Retrieved from What is social media analytics?: https://www.qualtrics.com/experience-management/research/social-media-analytics/\n",
        "\n"
      ]
    }
  ],
  "metadata": {
    "colab": {
      "provenance": []
    },
    "kernelspec": {
      "display_name": "Python 3",
      "language": "python",
      "name": "python3"
    },
    "language_info": {
      "codemirror_mode": {
        "name": "ipython",
        "version": 3
      },
      "file_extension": ".py",
      "mimetype": "text/x-python",
      "name": "python",
      "nbconvert_exporter": "python",
      "pygments_lexer": "ipython3",
      "version": "3.8.5"
    }
  },
  "nbformat": 4,
  "nbformat_minor": 0
}